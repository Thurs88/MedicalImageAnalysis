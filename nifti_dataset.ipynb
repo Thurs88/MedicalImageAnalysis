{
 "cells": [
  {
   "cell_type": "code",
   "execution_count": 1,
   "metadata": {
    "collapsed": true
   },
   "outputs": [],
   "source": [
    "from glob import glob\n",
    "import os\n",
    "import numpy as np\n",
    "import torch\n",
    "from typing import List, Union, Tuple, Optional, Callable\n",
    "import nibabel as nib\n",
    "import matplotlib.pyplot as plt\n",
    "%matplotlib inline\n",
    "from torch.utils.data.dataset import Dataset\n",
    "\n",
    "%load_ext autoreload\n",
    "%autoreload 2"
   ]
  },
  {
   "cell_type": "code",
   "execution_count": 2,
   "outputs": [],
   "source": [
    "input_dir = \"/home/nbaranov/projects/04_cv/MedicalImageAnalysis/data/small_data/small/\"\n",
    "f_size = (14,8)\n",
    "\n",
    "t1_dir = os.path.join(input_dir, 't1')\n",
    "t2_dir = os.path.join(input_dir, 't2')"
   ],
   "metadata": {
    "collapsed": false,
    "pycharm": {
     "name": "#%%\n"
    }
   }
  },
  {
   "cell_type": "markdown",
   "source": [
    "1.  Create a function that takes a tuple of two images and returns a tuple of the same two cropped (or, equivalently, a patch from the) images, where the cropped images are of the same randomly determined location.\n",
    "\n",
    "2.  Verify that this was implemented correctly by visualizing the output images as in the previous module.\n",
    "Create a class that inherits from Dataset to handle the NIfTI files."
   ],
   "metadata": {
    "collapsed": false,
    "pycharm": {
     "name": "#%% md\n"
    }
   }
  },
  {
   "cell_type": "code",
   "execution_count": 3,
   "outputs": [],
   "source": [
    "def glob_imgs(path: str, ext='*.nii*') -> List[str]:\n",
    "    \"\"\"\n",
    "    Grab all `ext` files in a directory and sort them for consistency\n",
    "    \"\"\"\n",
    "    fns = sorted(glob(os.path.join(path, ext)))\n",
    "    return fns\n",
    "\n",
    "\n",
    "class NiftiDataset(Dataset):\n",
    "    \"\"\"\n",
    "    Create a dataset class in PyTorch for reading NIfTI files\n",
    "\n",
    "    Args:\n",
    "        source_dir (str): path to source images\n",
    "        target_dir (str): path to target images\n",
    "        transform (Callable): transform to apply to both source and target images\n",
    "        preload (bool): load all data when initializing the dataset\n",
    "    \"\"\"\n",
    "\n",
    "    def __init__(self, source_dir: str,\n",
    "                 target_dir: str,\n",
    "                 transform: Optional[Callable]=None,\n",
    "                 preload: bool=True\n",
    "                 ):\n",
    "        self.source_dir, self.target_dir = source_dir, target_dir\n",
    "        self.source_fns, self.target_fns = glob_imgs(source_dir), glob_imgs(target_dir)\n",
    "        self.transform = transform\n",
    "        self.preload = preload\n",
    "        if len(self.source_fns) != len(self.target_fns) or len(self.source_fns) == 0:\n",
    "            raise ValueError(f'Number of source and target images must be equal and non-zero')\n",
    "        if preload:\n",
    "            self.imgs = [(nib.load(s).get_fdata().astype(np.float32),\n",
    "                          nib.load(t).get_fdata().astype(np.float32))\n",
    "                         for s, t in zip(self.source_fns, self.target_fns)]\n",
    "\n",
    "    def __len__(self):\n",
    "        return len(self.source_fns)\n",
    "\n",
    "    def __getitem__(self, idx:int):\n",
    "        if not self.preload:\n",
    "            src_fn, tgt_fn = self.source_fns[idx], self.target_fns[idx]\n",
    "            sample = (nib.load(src_fn).get_fdata(), nib.load(tgt_fn).get_fdata())\n",
    "        else:\n",
    "            sample = self.imgs[idx]\n",
    "        if self.transform is not None:\n",
    "            sample = self.transform(sample)\n",
    "        return sample"
   ],
   "metadata": {
    "collapsed": false,
    "pycharm": {
     "name": "#%%\n"
    }
   }
  },
  {
   "cell_type": "code",
   "execution_count": 4,
   "outputs": [],
   "source": [
    "ds = NiftiDataset(source_dir=t1_dir,\n",
    "                  target_dir=t2_dir,\n",
    "                  preload=False,\n",
    "                  )"
   ],
   "metadata": {
    "collapsed": false,
    "pycharm": {
     "name": "#%%\n"
    }
   }
  },
  {
   "cell_type": "code",
   "execution_count": 5,
   "outputs": [
    {
     "data": {
      "text/plain": "28"
     },
     "execution_count": 5,
     "metadata": {},
     "output_type": "execute_result"
    }
   ],
   "source": [
    "ds.__len__()"
   ],
   "metadata": {
    "collapsed": false,
    "pycharm": {
     "name": "#%%\n"
    }
   }
  },
  {
   "cell_type": "code",
   "execution_count": 14,
   "outputs": [
    {
     "name": "stdout",
     "output_type": "stream",
     "text": [
      "(120, 120, 90)\n"
     ]
    }
   ],
   "source": [
    "img1, img2 = ds.__getitem__(0)\n",
    "assert img1.shape == img2.shape and img1.shape != 0\n",
    "print(img1.shape)"
   ],
   "metadata": {
    "collapsed": false,
    "pycharm": {
     "name": "#%%\n"
    }
   }
  },
  {
   "cell_type": "code",
   "execution_count": 7,
   "outputs": [
    {
     "data": {
      "text/plain": "<Figure size 1008x576 with 2 Axes>",
      "image/png": "[encoded data removed]"
     },
     "metadata": {
      "needs_background": "light"
     },
     "output_type": "display_data"
    }
   ],
   "source": [
    "fig, (ax1, ax2) = plt.subplots(1, 2, figsize=f_size)\n",
    "ax1.imshow(img1[:,90,:], cmap='gray')\n",
    "ax1.set_title('T1', fontsize=22)\n",
    "ax1.axis('off')\n",
    "\n",
    "ax2.imshow(img2[:,90,:], cmap='gray')\n",
    "ax2.set_title('T2', fontsize=22)\n",
    "ax2.axis('off');"
   ],
   "metadata": {
    "collapsed": false,
    "pycharm": {
     "name": "#%%\n"
    }
   }
  },
  {
   "cell_type": "code",
   "execution_count": 8,
   "outputs": [],
   "source": [
    "class BaseTransform:\n",
    "    def __repr__(self):\n",
    "        return f'{self.__class__.__name__}'\n",
    "\n",
    "\n",
    "class ToTensor(BaseTransform):\n",
    "    \"\"\"\n",
    "    Convert images in sample to torch.Tensors\n",
    "    \"\"\"\n",
    "    def __call__(self, sample: Tuple[np.ndarray,np.ndarray]) -> Tuple[torch.Tensor,torch.Tensor]:\n",
    "        src, tgt = sample\n",
    "        return torch.from_numpy(src), torch.from_numpy(tgt)\n",
    "\n",
    "\n",
    "class CropBase(BaseTransform):\n",
    "    \"\"\"\n",
    "    Base class for crop transform\n",
    "    \"\"\"\n",
    "    def __init__(self, out_dim: int, output_size: Union[tuple,int,list], threshold: Optional[float]=None):\n",
    "        \"\"\"\n",
    "        Provide the common functionality for RandomCrop2D and RandomCrop3D\n",
    "        \"\"\"\n",
    "        assert isinstance(output_size, (int, tuple, list))\n",
    "        if isinstance(output_size, int):\n",
    "            self.output_size = (output_size,)\n",
    "            for _ in range(out_dim - 1):\n",
    "                self.output_size += (output_size,)\n",
    "        else:\n",
    "            assert len(output_size) == out_dim\n",
    "            self.output_size = output_size\n",
    "        self.out_dim = out_dim\n",
    "        self.thresh = threshold\n",
    "\n",
    "    def _get_sample_idxs(self, img: np.ndarray) -> Tuple[int,int,int]:\n",
    "        \"\"\"\n",
    "        Get the set of indices from which to sample (foreground)\n",
    "        \"\"\"\n",
    "        mask = np.where(img >= (img.mean() if self.thresh is None else self.thresh))  # returns a tuple of length 3\n",
    "        c = np.random.randint(0, len(mask[0]))  # choose the set of idxs to use\n",
    "        h, w, d = [m[c] for m in mask]  # pull out the chosen idxs\n",
    "        return h, w, d\n",
    "\n",
    "    def __repr__(self):\n",
    "        s = '{name}(output_size={output_size}, threshold={thresh})'\n",
    "        d = dict(self.__dict__)\n",
    "        return s.format(name=self.__class__.__name__, **d)\n",
    "\n",
    "\n",
    "class RandomCrop3D(CropBase):\n",
    "    \"\"\"\n",
    "    Randomly crop a 3d patch from a (pair of) 3d image\n",
    "\n",
    "    Args:\n",
    "        output_size (tuple or int): Desired output size.\n",
    "            If int, cube crop is made.\n",
    "    \"\"\"\n",
    "\n",
    "    def __init__(self, output_size: Union[tuple,int,list], threshold: Optional[float]=None):\n",
    "        super().__init__(3, output_size, threshold)\n",
    "\n",
    "    def __call__(self, sample: Tuple[np.ndarray,np.ndarray]) -> Tuple[np.ndarray,np.ndarray]:\n",
    "        src, tgt = sample\n",
    "        *cs, h, w, d = src.shape\n",
    "        *ct, _, _, _ = tgt.shape\n",
    "        hh, ww, dd = self.output_size\n",
    "        max_idxs = (h - hh//2, w - ww//2, d - dd//2)\n",
    "        min_idxs = (hh//2, ww//2, dd//2)\n",
    "        s = src[0] if len(cs) > 0 else src  # use the first image to determine sampling if multimodal\n",
    "        s_idxs = super()._get_sample_idxs(s)\n",
    "        i, j, k = [i if min_i <= i <= max_i else max_i if i > max_i else min_i\n",
    "                   for max_i, min_i, i in zip(max_idxs, min_idxs, s_idxs)]\n",
    "        oh = 0 if hh % 2 == 0 else 1\n",
    "        ow = 0 if ww % 2 == 0 else 1\n",
    "        od = 0 if dd % 2 == 0 else 1\n",
    "        s = src[..., i - hh//2: i + hh//2 + oh, j - ww//2: j + ww//2 + ow, k - dd//2: k + dd//2 + od]\n",
    "        t = tgt[..., i - hh//2: i + hh//2 + oh, j - ww//2: j + ww//2 + ow, k - dd//2: k + dd//2 + od]\n",
    "        if len(cs) == 0: s = s[np.newaxis,...]  # add channel axis if empty\n",
    "        if len(ct) == 0: t = t[np.newaxis,...]\n",
    "        return s, t\n",
    "\n",
    "\n",
    "# class RandomCrop3D:\n",
    "#     def __init__(self, output_size: int):\n",
    "#         self.output_size = output_size\n",
    "#\n",
    "#     def __call__(self, sample, target):\n",
    "#         return self.random_crop(sample, target)\n",
    "#\n",
    "#     def random_crop(self, sample, target):\n",
    "#         start_idx = np.random.randint(0, sample.shape[0] - self.output_size + 1)\n",
    "#\n",
    "#         sample = sample[start_idx: start_idx + self.output_size,\n",
    "#                               start_idx: start_idx + self.output_size, :]\n",
    "#         target = target[start_idx: start_idx + self.output_size,\n",
    "#                   start_idx: start_idx + self.output_size, :]\n",
    "#\n",
    "#         # sample = np.moveaxis(sample, 2, 0)\n",
    "#         # target = np.moveaxis(target, 2, 0)\n",
    "#\n",
    "#         return sample, target"
   ],
   "metadata": {
    "collapsed": false,
    "pycharm": {
     "name": "#%%\n"
    }
   }
  },
  {
   "cell_type": "code",
   "execution_count": 9,
   "outputs": [],
   "source": [
    "random_crop = RandomCrop3D(output_size=(32, 32, 90))"
   ],
   "metadata": {
    "collapsed": false,
    "pycharm": {
     "name": "#%%\n"
    }
   }
  },
  {
   "cell_type": "code",
   "execution_count": 10,
   "outputs": [
    {
     "data": {
      "text/plain": "'RandomCrop3D(output_size=(32, 32, 90), threshold=None)'"
     },
     "execution_count": 10,
     "metadata": {},
     "output_type": "execute_result"
    }
   ],
   "source": [
    "random_crop.__repr__()"
   ],
   "metadata": {
    "collapsed": false,
    "pycharm": {
     "name": "#%%\n"
    }
   }
  },
  {
   "cell_type": "code",
   "execution_count": 40,
   "outputs": [
    {
     "name": "stdout",
     "output_type": "stream",
     "text": [
      "(1, 32, 32, 90)\n"
     ]
    },
    {
     "data": {
      "text/plain": "<Figure size 1008x576 with 2 Axes>",
      "image/png": "[encoded data removed]"
     },
     "metadata": {
      "needs_background": "light"
     },
     "output_type": "display_data"
    }
   ],
   "source": [
    "t1_crop, t2_crop = random_crop((img1, img2))\n",
    "assert t1_crop.shape == t2_crop.shape and t1_crop.shape != 0\n",
    "print(t1_crop.shape)\n",
    "\n",
    "fig, (ax1, ax2) = plt.subplots(1, 2, figsize=f_size)\n",
    "ax1.imshow(t1_crop[0][:,15,:], cmap='gray')\n",
    "ax1.set_title('T1', fontsize=22)\n",
    "ax1.axis('off')\n",
    "\n",
    "ax2.imshow(t2_crop[0][:,15,:], cmap='gray')\n",
    "ax2.set_title('T2', fontsize=22)\n",
    "ax2.axis('off');"
   ],
   "metadata": {
    "collapsed": false,
    "pycharm": {
     "name": "#%%\n"
    }
   }
  },
  {
   "cell_type": "code",
   "execution_count": 42,
   "outputs": [
    {
     "name": "stdout",
     "output_type": "stream",
     "text": [
      "(1, 32, 32, 90)\n"
     ]
    },
    {
     "data": {
      "text/plain": "<Figure size 1008x576 with 2 Axes>",
      "image/png": "[encoded data removed]"
     },
     "metadata": {
      "needs_background": "light"
     },
     "output_type": "display_data"
    }
   ],
   "source": [
    "t1_crop, t2_crop = random_crop((img1, img2))\n",
    "assert t1_crop.shape == t2_crop.shape and t1_crop.shape != 0\n",
    "print(t1_crop.shape)\n",
    "\n",
    "fig, (ax1, ax2) = plt.subplots(1, 2, figsize=f_size)\n",
    "ax1.imshow(t1_crop[0][:,15,:], cmap='gray')\n",
    "ax1.set_title('T1', fontsize=22)\n",
    "ax1.axis('off')\n",
    "\n",
    "ax2.imshow(t2_crop[0][:,15,:], cmap='gray')\n",
    "ax2.set_title('T2', fontsize=22)\n",
    "ax2.axis('off');"
   ],
   "metadata": {
    "collapsed": false,
    "pycharm": {
     "name": "#%%\n"
    }
   }
  },
  {
   "cell_type": "code",
   "execution_count": null,
   "outputs": [],
   "source": [],
   "metadata": {
    "collapsed": false,
    "pycharm": {
     "name": "#%%\n"
    }
   }
  },
  {
   "cell_type": "code",
   "execution_count": null,
   "outputs": [],
   "source": [],
   "metadata": {
    "collapsed": false,
    "pycharm": {
     "name": "#%%\n"
    }
   }
  }
 ],
 "metadata": {
  "kernelspec": {
   "display_name": "Python 3",
   "language": "python",
   "name": "python3"
  },
  "language_info": {
   "codemirror_mode": {
    "name": "ipython",
    "version": 2
   },
   "file_extension": ".py",
   "mimetype": "text/x-python",
   "name": "python",
   "nbconvert_exporter": "python",
   "pygments_lexer": "ipython2",
   "version": "2.7.6"
  }
 },
 "nbformat": 4,
 "nbformat_minor": 0
}