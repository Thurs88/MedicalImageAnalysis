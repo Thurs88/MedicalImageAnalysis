{
 "cells": [
  {
   "cell_type": "markdown",
   "metadata": {
    "collapsed": true,
    "pycharm": {
     "name": "#%% md\n"
    }
   },
   "source": [
    "Workflow\n",
    "\n",
    "1. Split the dataset into a training, validation, and test set by randomly moving some percentage of the provided data into a validation and test directory—split the data evenly between the two, but make the training set the largest. Make sure that the training, validation, and test images do no overlap.\n",
    "2. Use the DataLoader class to create the loading mechanism for the training and validation data using the Dataset class built in Step 2.\n",
    "3. Build a training loop using MSE as the loss function. Determine an optimizer (pick between SGD or Adam).\n",
    "4. Instantiate a model and train the network with the created routine."
   ]
  },
  {
   "cell_type": "code",
   "execution_count": 1,
   "outputs": [],
   "source": [
    "import os\n",
    "import numpy as np\n",
    "from nifti_dataset import NiftiDataset, RandomCrop3D, ToTensor\n",
    "import torch\n",
    "from torch.utils.data import DataLoader, SubsetRandomSampler\n",
    "from torchvision import transforms\n",
    "\n",
    "import matplotlib.pyplot as plt\n",
    "%matplotlib inline\n",
    "%load_ext autoreload\n",
    "%autoreload 2"
   ],
   "metadata": {
    "collapsed": false,
    "pycharm": {
     "name": "#%%\n"
    }
   }
  },
  {
   "cell_type": "code",
   "execution_count": 2,
   "outputs": [],
   "source": [
    "input_dir = \"/home/nbaranov/projects/04_cv/MedicalImageAnalysis/data/small_data/small/\"\n",
    "f_size = (14,8)\n",
    "\n",
    "t1_dir = os.path.join(input_dir, 't1')\n",
    "t2_dir = os.path.join(input_dir, 't2')"
   ],
   "metadata": {
    "collapsed": false,
    "pycharm": {
     "name": "#%%\n"
    }
   }
  },
  {
   "cell_type": "code",
   "execution_count": 3,
   "outputs": [],
   "source": [
    "valid_split = 0.1\n",
    "batch_size = 16\n",
    "n_jobs = 8\n",
    "n_epochs = 50"
   ],
   "metadata": {
    "collapsed": false,
    "pycharm": {
     "name": "#%%\n"
    }
   }
  },
  {
   "cell_type": "code",
   "execution_count": 4,
   "outputs": [],
   "source": [
    "tfms = transforms.Compose([RandomCrop3D((32, 32, 90)), ToTensor()])\n",
    "\n",
    "# set up training and validation data loader for nifti images\n",
    "dataset = NiftiDataset(t1_dir, t2_dir, tfms, preload=False)  # set preload=False if you have limited CPU memory\n",
    "num_train = len(dataset)\n",
    "indices = list(range(num_train))\n",
    "val_size = int(valid_split * num_train)"
   ],
   "metadata": {
    "collapsed": false,
    "pycharm": {
     "name": "#%%\n"
    }
   }
  },
  {
   "cell_type": "code",
   "execution_count": 5,
   "outputs": [],
   "source": [
    "valid_idx = np.random.choice(indices, size=val_size, replace=False)\n",
    "train_idx = list(set(indices) - set(valid_idx))\n",
    "train_sampler = SubsetRandomSampler(train_idx)\n",
    "valid_sampler = SubsetRandomSampler(valid_idx)\n",
    "train_loader = DataLoader(dataset, sampler=train_sampler, batch_size=batch_size,\n",
    "                          num_workers=n_jobs, pin_memory=True)\n",
    "valid_loader = DataLoader(dataset, sampler=valid_sampler, batch_size=batch_size,\n",
    "                          num_workers=n_jobs, pin_memory=True)"
   ],
   "metadata": {
    "collapsed": false,
    "pycharm": {
     "name": "#%%\n"
    }
   }
  },
  {
   "cell_type": "code",
   "execution_count": 6,
   "outputs": [],
   "source": [
    "assert torch.cuda.is_available()\n",
    "device = torch.device('cuda:0')\n",
    "torch.backends.cudnn.benchmark = True"
   ],
   "metadata": {
    "collapsed": false,
    "pycharm": {
     "name": "#%%\n"
    }
   }
  },
  {
   "cell_type": "code",
   "execution_count": 7,
   "outputs": [],
   "source": [
    "from model import SimpleEncDec\n",
    "\n",
    "model = SimpleEncDec((batch_size, 1, 32, 32, 90))\n",
    "model.to(device)\n",
    "\n",
    "optimizer = torch.optim.AdamW(model.parameters(), weight_decay=1e-6)\n",
    "criterion = torch.nn.SmoothL1Loss()  #nn.MSELoss()"
   ],
   "metadata": {
    "collapsed": false,
    "pycharm": {
     "name": "#%%\n"
    }
   }
  },
  {
   "cell_type": "code",
   "execution_count": 2,
   "outputs": [],
   "source": [
    "train_losses, valid_losses = [], []\n",
    "n_batches = len(train_loader)\n",
    "\n",
    "for t in range(1, n_epochs + 1):\n",
    "    t_losses = []\n",
    "    model.train()\n",
    "    for i, (src, tgt) in enumerate(train_loader):\n",
    "        src, tgt = src.float().to(device), tgt.float().to(device)\n",
    "\n",
    "        out = model(src)\n",
    "        loss = criterion(out, tgt)\n",
    "        t_losses.append(loss.item())\n",
    "\n",
    "        loss.backward()\n",
    "        optimizer.step()\n",
    "        optimizer.zero_grad()\n",
    "\n",
    "    train_losses.append(t_losses)\n",
    "\n",
    "    # validation\n",
    "    v_losses = []\n",
    "    model.eval()\n",
    "    with torch.no_grad():\n",
    "        for src, tgt in valid_loader:\n",
    "            src, tgt = src.float().to(device), tgt.float().to(device)\n",
    "\n",
    "            out = model(src)\n",
    "            loss = criterion(out, tgt)\n",
    "            v_losses.append(loss.item())\n",
    "        valid_losses.append(v_losses)\n",
    "\n",
    "    if not np.all(np.isfinite(t_losses)):\n",
    "        raise RuntimeError('NaN or Inf in training loss, cannot recover. Exiting.')\n",
    "    log = f'Epoch: {t} - Training Loss: {round(np.mean(t_losses), 5)}, ' \\\n",
    "          f'Validation Loss: {round(np.mean(v_losses), 5)}'\n",
    "    print(log)"
   ],
   "metadata": {
    "collapsed": false,
    "pycharm": {
     "name": "#%%\n"
    }
   }
  },
  {
   "cell_type": "code",
   "execution_count": 1,
   "outputs": [],
   "source": [
    "torch.save(model.state_dict(), 'results/trained.pth')"
   ],
   "metadata": {
    "collapsed": false,
    "pycharm": {
     "name": "#%%\n"
    }
   }
  },
  {
   "cell_type": "code",
   "execution_count": null,
   "outputs": [],
   "source": [],
   "metadata": {
    "collapsed": false,
    "pycharm": {
     "name": "#%%\n"
    }
   }
  }
 ],
 "metadata": {
  "kernelspec": {
   "display_name": "Python 3",
   "language": "python",
   "name": "python3"
  },
  "language_info": {
   "codemirror_mode": {
    "name": "ipython",
    "version": 2
   },
   "file_extension": ".py",
   "mimetype": "text/x-python",
   "name": "python",
   "nbconvert_exporter": "python",
   "pygments_lexer": "ipython2",
   "version": "2.7.6"
  }
 },
 "nbformat": 4,
 "nbformat_minor": 0
}