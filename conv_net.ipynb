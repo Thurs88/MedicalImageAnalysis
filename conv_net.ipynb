{
 "cells": [
  {
   "cell_type": "markdown",
   "metadata": {
    "collapsed": true,
    "pycharm": {
     "name": "#%% md\n"
    }
   },
   "source": [
    "### Workflow\n",
    "\n",
    "1.  Create a class that inherits from nn.Module and implement the following methods:\n",
    "    * __init__ (put the convolutional blocks here)\n",
    "    * forward (this will take a properly formatted T1-w image as input and, once trained, output an approximate T2-w image of the same shape as the input image)\n",
    "2.  Verify that the forward pass works by running an image from the training set through the network. Check that the input shape is the same as the output shape."
   ]
  },
  {
   "cell_type": "code",
   "execution_count": 1,
   "outputs": [],
   "source": [
    "import os\n",
    "from nifti_dataset import NiftiDataset, RandomCrop3D, ToTensor\n",
    "import matplotlib.pyplot as plt\n",
    "%matplotlib inline\n",
    "%load_ext autoreload\n",
    "%autoreload 2"
   ],
   "metadata": {
    "collapsed": false,
    "pycharm": {
     "name": "#%%\n"
    }
   }
  },
  {
   "cell_type": "code",
   "execution_count": 2,
   "outputs": [],
   "source": [
    "input_dir = \"/home/nbaranov/projects/04_cv/MedicalImageAnalysis/data/small_data/small/\"\n",
    "f_size = (14,8)\n",
    "\n",
    "t1_dir = os.path.join(input_dir, 't1')\n",
    "t2_dir = os.path.join(input_dir, 't2')"
   ],
   "metadata": {
    "collapsed": false,
    "pycharm": {
     "name": "#%%\n"
    }
   }
  },
  {
   "cell_type": "code",
   "source": [
    "ds = NiftiDataset(source_dir=t1_dir,\n",
    "                  target_dir=t2_dir,\n",
    "                  transform=[RandomCrop3D(output_size=(64, 64, 90)), ToTensor()],\n",
    "                  preload=False,\n",
    "                  )\n",
    "\n",
    "img1, img2 = ds.__getitem__(0)\n",
    "print(img1.shape)"
   ],
   "metadata": {
    "collapsed": false,
    "pycharm": {
     "name": "#%%\n"
    }
   },
   "execution_count": 39,
   "outputs": [
    {
     "name": "stdout",
     "output_type": "stream",
     "text": [
      "torch.Size([1, 64, 64, 90])\n"
     ]
    }
   ]
  },
  {
   "cell_type": "code",
   "execution_count": 40,
   "outputs": [
    {
     "data": {
      "text/plain": "<Figure size 432x288 with 1 Axes>",
      "image/png": "[encoded data removed]"
     },
     "metadata": {
      "needs_background": "light"
     },
     "output_type": "display_data"
    }
   ],
   "source": [
    "plt.imshow(img1.squeeze(0)[:,:,15], cmap='gray')\n",
    "plt.title('T1 crop', fontsize=22)\n",
    "plt.axis('off');"
   ],
   "metadata": {
    "collapsed": false,
    "pycharm": {
     "name": "#%%\n"
    }
   }
  },
  {
   "cell_type": "markdown",
   "source": [
    "d_out = (d_in -1) * stride[3] - 2 * padding[3] + dilation *(kernel_size - 1) + output_padding[3] + 1"
   ],
   "metadata": {
    "collapsed": false,
    "pycharm": {
     "name": "#%% md\n"
    }
   }
  },
  {
   "cell_type": "code",
   "execution_count": 101,
   "outputs": [
    {
     "data": {
      "text/plain": "46"
     },
     "execution_count": 101,
     "metadata": {},
     "output_type": "execute_result"
    }
   ],
   "source": [
    "d_out = (23 - 1) * 2 - 2 * 1 + 1 * (3 - 1) + 1 + 1\n",
    "d_out"
   ],
   "metadata": {
    "collapsed": false,
    "pycharm": {
     "name": "#%%\n"
    }
   }
  },
  {
   "cell_type": "code",
   "execution_count": 102,
   "outputs": [
    {
     "data": {
      "text/plain": "90"
     },
     "execution_count": 102,
     "metadata": {},
     "output_type": "execute_result"
    }
   ],
   "source": [
    "d_out2 = (d_out - 1) * 2 - 2 * 2 + 1 * (3 - 1) + 1 + 1\n",
    "d_out2"
   ],
   "metadata": {
    "collapsed": false,
    "pycharm": {
     "name": "#%%\n"
    }
   }
  },
  {
   "cell_type": "code",
   "execution_count": 91,
   "outputs": [],
   "source": [
    "from torch import nn\n",
    "\n",
    "\n",
    "class SimpleEncDec(nn.Module):\n",
    "    \"\"\"\n",
    "    Simple encoder-decoder net\n",
    "    \"\"\"\n",
    "    def __init__(self, in_channels: int = 1):\n",
    "        super().__init__()\n",
    "        self.encoder = nn.Sequential(\n",
    "            self.encoder_block(in_channels=in_channels,\n",
    "                               out_channels=16,\n",
    "                               kernel_size=3,\n",
    "                               stride=1,\n",
    "                               output_size=(64//2, 64//2, 90//2)\n",
    "                               ),\n",
    "            self.encoder_block(in_channels=16,\n",
    "                               out_channels=32,\n",
    "                               kernel_size=3,\n",
    "                               stride=1,\n",
    "                               output_size=(32//2, 32//2, 45//2+1)\n",
    "                               )\n",
    "        )\n",
    "        self.decoder = nn.Sequential(\n",
    "            self.decoder_block(in_channels=32,\n",
    "                               out_channels=16,\n",
    "                               kernel_size=3,\n",
    "                               stride=2,\n",
    "                               padding=(1, 1, 1),\n",
    "                               output_padding=(1, 1, 1)\n",
    "                               ),\n",
    "            self.decoder_block(in_channels=16,\n",
    "                               out_channels=1,\n",
    "                               kernel_size=3,\n",
    "                               stride=2,\n",
    "                               padding=(1, 1, 2),\n",
    "                               output_padding=(1, 1, 1)\n",
    "                               )\n",
    "        )\n",
    "\n",
    "    def forward(self, x):\n",
    "        x = self.encoder(x)\n",
    "        x = self.decoder(x)\n",
    "        return x\n",
    "\n",
    "    def encoder_block(self, in_channels, out_channels, kernel_size, stride, output_size):\n",
    "        return nn.Sequential(\n",
    "            nn.Conv3d(in_channels=in_channels, out_channels=out_channels, kernel_size=kernel_size, stride=stride),\n",
    "            nn.ReLU(),\n",
    "            nn.AdaptiveMaxPool3d(output_size),\n",
    "        )\n",
    "    def decoder_block(self, in_channels, out_channels, kernel_size, stride, padding, output_padding):\n",
    "        return nn.Sequential(\n",
    "            nn.ConvTranspose3d(in_channels, out_channels, kernel_size, stride, padding=padding, output_padding=output_padding),\n",
    "            nn.ReLU(),\n",
    "        )"
   ],
   "metadata": {
    "collapsed": false,
    "pycharm": {
     "name": "#%%\n"
    }
   }
  },
  {
   "cell_type": "code",
   "execution_count": 92,
   "outputs": [
    {
     "name": "stdout",
     "output_type": "stream",
     "text": [
      "SimpleEncDec(\n",
      "  (encoder): Sequential(\n",
      "    (0): Sequential(\n",
      "      (0): Conv3d(1, 16, kernel_size=(3, 3, 3), stride=(1, 1, 1))\n",
      "      (1): ReLU()\n",
      "      (2): AdaptiveMaxPool3d(output_size=(32, 32, 45))\n",
      "    )\n",
      "    (1): Sequential(\n",
      "      (0): Conv3d(16, 32, kernel_size=(3, 3, 3), stride=(1, 1, 1))\n",
      "      (1): ReLU()\n",
      "      (2): AdaptiveMaxPool3d(output_size=(16, 16, 23))\n",
      "    )\n",
      "  )\n",
      "  (decoder): Sequential(\n",
      "    (0): Sequential(\n",
      "      (0): ConvTranspose3d(32, 16, kernel_size=(3, 3, 3), stride=(2, 2, 2), padding=(1, 1, 1), output_padding=(1, 1, 1))\n",
      "      (1): ReLU()\n",
      "    )\n",
      "    (1): Sequential(\n",
      "      (0): ConvTranspose3d(16, 1, kernel_size=(3, 3, 3), stride=(2, 2, 2), padding=(1, 1, 2), output_padding=(1, 1, 1))\n",
      "      (1): ReLU()\n",
      "    )\n",
      "  )\n",
      ")\n"
     ]
    }
   ],
   "source": [
    "convEncNet = SimpleEncDec()\n",
    "print(convEncNet)"
   ],
   "metadata": {
    "collapsed": false,
    "pycharm": {
     "name": "#%%\n"
    }
   }
  },
  {
   "cell_type": "code",
   "execution_count": 94,
   "outputs": [
    {
     "name": "stdout",
     "output_type": "stream",
     "text": [
      "torch.Size([1, 1, 64, 64, 90])\n"
     ]
    }
   ],
   "source": [
    "input_img = img1.float().unsqueeze(0)\n",
    "\n",
    "output = convEncNet(input_img)\n",
    "assert input_img.shape == output.shape\n",
    "print(output.shape)"
   ],
   "metadata": {
    "collapsed": false,
    "pycharm": {
     "name": "#%%\n"
    }
   }
  },
  {
   "cell_type": "code",
   "execution_count": 22,
   "outputs": [],
   "source": [],
   "metadata": {
    "collapsed": false,
    "pycharm": {
     "name": "#%%\n"
    }
   }
  },
  {
   "cell_type": "code",
   "execution_count": null,
   "outputs": [],
   "source": [],
   "metadata": {
    "collapsed": false,
    "pycharm": {
     "name": "#%%\n"
    }
   }
  }
 ],
 "metadata": {
  "kernelspec": {
   "display_name": "Python 3",
   "language": "python",
   "name": "python3"
  },
  "language_info": {
   "codemirror_mode": {
    "name": "ipython",
    "version": 2
   },
   "file_extension": ".py",
   "mimetype": "text/x-python",
   "name": "python",
   "nbconvert_exporter": "python",
   "pygments_lexer": "ipython2",
   "version": "2.7.6"
  }
 },
 "nbformat": 4,
 "nbformat_minor": 0
}